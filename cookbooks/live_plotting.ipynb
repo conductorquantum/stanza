{
 "cells": [
  {
   "cell_type": "markdown",
   "metadata": {},
   "source": [
    "# Live Plotting Cookbook\n",
    "\n",
    "Real-time visualization of sweep data as it's collected.\n",
    "\n",
    "**⚠️ IMPORTANT: Streaming sweeps support 1D data only.** For 2D/ND sweeps, collect data first, then use `log_sweep()`.\n",
    "\n",
    "## Two APIs for Live Plotting\n",
    "\n",
    "1. **`sweep()` context manager** - NEW! For streaming 1D data incrementally\n",
    "   - Use when: Collecting data points one-by-one in real-time\n",
    "   - Benefit: One sweep record in file, live updates during collection\n",
    "   - Limitation: 1D only (scalar x, scalar y)\n",
    "\n",
    "2. **`log_sweep()` method** - Traditional approach for complete sweeps\n",
    "   - Use when: You have all data at once, or need 2D/ND sweeps\n",
    "   - Benefit: Works with any dimensionality\n",
    "   - Note: Multiple calls create multiple sweep records\n",
    "\n",
    "## Two Backends\n",
    "\n",
    "- **server**: Plots in browser window (works everywhere)\n",
    "- **inline**: Plots in notebook cells (this notebook)"
   ]
  },
  {
   "cell_type": "markdown",
   "metadata": {},
   "source": [
    "## Setup"
   ]
  },
  {
   "cell_type": "code",
   "execution_count": null,
   "metadata": {},
   "outputs": [],
   "source": [
    "import tempfile\n",
    "import time\n",
    "import numpy as np\n",
    "from stanza.logger.data_logger import DataLogger\n",
    "from stanza.plotter import enable_live_plotting"
   ]
  },
  {
   "cell_type": "markdown",
   "metadata": {},
   "source": [
    "## Example 1: Basic Inline Plotting\n",
    "\n",
    "Simplest case - one sweep, inline display."
   ]
  },
  {
   "cell_type": "code",
   "execution_count": null,
   "metadata": {},
   "outputs": [],
   "source": [
    "# Create logger and enable inline plotting\n",
    "tmpdir = tempfile.mkdtemp()\n",
    "logger = DataLogger(routine_name=\"basic\", base_dir=tmpdir)\n",
    "backend = enable_live_plotting(logger, backend=\"inline\")"
   ]
  },
  {
   "cell_type": "code",
   "execution_count": null,
   "metadata": {},
   "outputs": [],
   "source": [
    "# Create session and log data\n",
    "session = logger.create_session()\n",
    "\n",
    "# First batch - plot appears\n",
    "x = np.linspace(0, 5, 10)\n",
    "y = np.sin(x)\n",
    "session.log_sweep(name=\"signal\", x_data=x, y_data=y, x_label=\"Time (s)\", y_label=\"Amplitude\")\n",
    "session.flush()\n",
    "print(f\"Logged {len(x)} points\")"
   ]
  },
  {
   "cell_type": "code",
   "execution_count": null,
   "metadata": {},
   "outputs": [],
   "source": [
    "# Second batch - same plot updates\n",
    "x = np.linspace(5, 10, 10)\n",
    "y = np.sin(x)\n",
    "session.log_sweep(name=\"signal\", x_data=x, y_data=y, x_label=\"Time (s)\", y_label=\"Amplitude\")\n",
    "session.flush()\n",
    "print(f\"Total: {len(session._buffer) if hasattr(session, '_buffer') else 'N/A'} points\")"
   ]
  },
  {
   "cell_type": "code",
   "execution_count": null,
   "metadata": {},
   "outputs": [],
   "source": [
    "# Cleanup\n",
    "session.close()"
   ]
  },
  {
   "cell_type": "markdown",
   "metadata": {},
   "source": [
    "## Example 2: Streaming Data with Context Manager\n",
    "\n",
    "Use `sweep()` context for real-time streaming. Data accumulates and writes once to file on exit."
   ]
  },
  {
   "cell_type": "code",
   "execution_count": null,
   "metadata": {},
   "outputs": [],
   "source": [
    "# Setup\n",
    "tmpdir = tempfile.mkdtemp()\n",
    "logger = DataLogger(routine_name=\"streaming\", base_dir=tmpdir)\n",
    "backend = enable_live_plotting(logger, backend=\"inline\")\n",
    "session = logger.create_session()"
   ]
  },
  {
   "cell_type": "code",
   "execution_count": null,
   "metadata": {},
   "outputs": [],
   "source": [
    "# Stream data in chunks using context manager\n",
    "with session.sweep(\"decay\", x_label=\"Time (s)\", y_label=\"Signal\") as s:\n",
    "    for i in range(20):\n",
    "        t = i * 0.5\n",
    "        amplitude = np.cos(2 * np.pi * 0.5 * t) * np.exp(-t/5)\n",
    "        \n",
    "        # append() streams to live plot immediately, accumulates for file\n",
    "        s.append([t], [amplitude])\n",
    "        time.sleep(0.1)  # Simulate measurement time\n",
    "\n",
    "# Sweep written to file here (exactly one record)\n",
    "print(\"✓ Streaming complete - one sweep record written\")"
   ]
  },
  {
   "cell_type": "code",
   "execution_count": null,
   "metadata": {},
   "outputs": [],
   "source": [
    "session.close()"
   ]
  },
  {
   "cell_type": "markdown",
   "metadata": {},
   "source": [
    "## Example 3: Multiple Streaming Plots\n",
    "\n",
    "Different sweep names create separate plots. Use nested contexts or sequential contexts."
   ]
  },
  {
   "cell_type": "code",
   "execution_count": null,
   "metadata": {},
   "outputs": [],
   "source": [
    "# Setup\n",
    "tmpdir = tempfile.mkdtemp()\n",
    "logger = DataLogger(routine_name=\"multi\", base_dir=tmpdir)\n",
    "backend = enable_live_plotting(logger, backend=\"inline\")\n",
    "session = logger.create_session()"
   ]
  },
  {
   "cell_type": "code",
   "execution_count": null,
   "metadata": {},
   "outputs": [],
   "source": [
    "# Create two streaming sweeps for I and Q components\n",
    "t = np.linspace(0, 10, 50)\n",
    "\n",
    "# Start both sweeps\n",
    "s_I = session.start_sweep(\"I\", x_label=\"Time\", y_label=\"I\")\n",
    "s_Q = session.start_sweep(\"Q\", x_label=\"Time\", y_label=\"Q\")\n",
    "\n",
    "for time_point in t:\n",
    "    I = np.cos(2 * np.pi * time_point)\n",
    "    Q = np.sin(2 * np.pi * time_point)\n",
    "    \n",
    "    # Append to both sweeps - both plots update in real-time\n",
    "    s_I.append([time_point], [I])\n",
    "    s_Q.append([time_point], [Q])\n",
    "    time.sleep(0.05)\n",
    "\n",
    "# Complete both sweeps\n",
    "s_I.end()\n",
    "s_Q.end()\n",
    "\n",
    "print(\"✓ Two plots created, two sweep records written\")"
   ]
  },
  {
   "cell_type": "code",
   "execution_count": null,
   "metadata": {},
   "outputs": [],
   "source": [
    "session.close()"
   ]
  },
  {
   "cell_type": "markdown",
   "metadata": {},
   "source": [
    "## Example 4: Server Backend (Browser)\n",
    "\n",
    "Use this for longer experiments or when not in a notebook."
   ]
  },
  {
   "cell_type": "code",
   "execution_count": null,
   "metadata": {},
   "outputs": [],
   "source": [
    "# Setup with server backend\n",
    "tmpdir = tempfile.mkdtemp()\n",
    "logger = DataLogger(routine_name=\"server_demo\", base_dir=tmpdir)\n",
    "backend = enable_live_plotting(logger, backend=\"server\", port=5007)\n",
    "\n",
    "print(\"\\n⚠️  Open http://localhost:5006 in your browser NOW\\n\")"
   ]
  },
  {
   "cell_type": "code",
   "execution_count": null,
   "metadata": {},
   "outputs": [],
   "source": [
    "# Wait a moment for browser to connect\n",
    "time.sleep(2)\n",
    "\n",
    "# Now stream data - it appears in browser\n",
    "session = logger.create_session()\n",
    "\n",
    "with session.sweep(\"noisy_signal\", x_label=\"Time\", y_label=\"Signal + Noise\") as s:\n",
    "    for i in range(30):\n",
    "        x = i * 0.2\n",
    "        y = np.sin(x) + 0.1 * np.random.randn()\n",
    "        s.append([x], [y])\n",
    "        time.sleep(0.1)\n",
    "\n",
    "print(\"✓ Check browser for plot\")"
   ]
  },
  {
   "cell_type": "code",
   "execution_count": null,
   "metadata": {},
   "outputs": [],
   "source": [
    "session.close()\n",
    "backend.stop()"
   ]
  },
  {
   "cell_type": "markdown",
   "metadata": {},
   "source": [
    "## Example 5: Rabi Oscillations\n",
    "\n",
    "Realistic quantum experiment simulation."
   ]
  },
  {
   "cell_type": "code",
   "execution_count": null,
   "metadata": {},
   "outputs": [],
   "source": [
    "# Setup\n",
    "tmpdir = tempfile.mkdtemp()\n",
    "logger = DataLogger(routine_name=\"rabi\", base_dir=tmpdir)\n",
    "backend = enable_live_plotting(logger, backend=\"inline\")\n",
    "session = logger.create_session()"
   ]
  },
  {
   "cell_type": "code",
   "execution_count": null,
   "metadata": {},
   "outputs": [],
   "source": [
    "# Sweep pulse duration with streaming context\n",
    "pulse_times = np.linspace(0, 20, 40)  # microseconds\n",
    "\n",
    "with session.sweep(\n",
    "    \"rabi_oscillations\",\n",
    "    x_label=\"Pulse Duration (μs)\",\n",
    "    y_label=\"Excited State Population\"\n",
    ") as s:\n",
    "    for t_pulse in pulse_times:\n",
    "        # Simulate Rabi oscillation with decay\n",
    "        omega_rabi = 2 * np.pi * 0.5  # MHz\n",
    "        T1 = 30  # microseconds\n",
    "        \n",
    "        population = 0.5 * (1 - np.cos(omega_rabi * t_pulse)) * np.exp(-t_pulse / T1)\n",
    "        \n",
    "        # Add measurement noise\n",
    "        population += 0.02 * np.random.randn()\n",
    "        \n",
    "        s.append([t_pulse], [population])\n",
    "        time.sleep(0.05)\n",
    "\n",
    "print(\"✓ Rabi sweep complete - one sweep record written\")"
   ]
  },
  {
   "cell_type": "code",
   "execution_count": null,
   "metadata": {},
   "outputs": [],
   "source": [
    "session.close()"
   ]
  },
  {
   "cell_type": "markdown",
   "metadata": {},
   "source": [
    "## Key Points\n",
    "\n",
    "### Using `sweep()` Context Manager (Recommended for Streaming)\n",
    "1. **No flush() needed** - `append()` updates plot immediately, context exit writes to file\n",
    "2. **One file record** - Complete sweep written once on context exit\n",
    "3. **1D only** - Both x and y must be scalar values per append\n",
    "4. **Same name = same plot** - Different names create separate plots\n",
    "5. **Exception = no file write** - Live updates shown, but sweep not persisted if error occurs\n",
    "6. **Use cancel()** - Explicitly skip file write: `s.cancel()`\n",
    "\n",
    "### Using `log_sweep()` Method (Traditional)\n",
    "1. **Call `flush()`** - Only flushed data appears in plots\n",
    "2. **Multiple calls = multiple records** - Each `log_sweep()` creates a new sweep record\n",
    "3. **Any dimensionality** - Works with 1D, 2D, or ND sweeps\n",
    "4. **Same name = same plot** - Different names create separate plots\n",
    "\n",
    "### Backends\n",
    "- **Inline backend** - Requires `jupyter_bokeh` package\n",
    "- **Server backend** - Open browser to `http://localhost:PORT` before logging\n",
    "- **Updates are automatic** - Just append/flush and watch\n",
    "\n",
    "## When to Use Which API\n",
    "\n",
    "**Use `sweep()` context manager when:**\n",
    "- Collecting data incrementally in real-time (one point at a time)\n",
    "- Want live plotting with single file record\n",
    "- Data is 1D (scalar x, scalar y)\n",
    "- Example: Time-series measurements, parameter sweeps\n",
    "\n",
    "**Use `log_sweep()` when:**\n",
    "- You have complete data already collected\n",
    "- Need 2D/ND sweeps (e.g., heatmaps)\n",
    "- Want explicit control over each write\n",
    "- Example: Post-processing, batch uploads\n",
    "\n",
    "## Troubleshooting\n",
    "\n",
    "**Plot doesn't appear:**\n",
    "- For `sweep()`: Is bokeh backend enabled? Did context enter?\n",
    "- For `log_sweep()`: Did you call `session.flush()`?\n",
    "- For inline: Is `jupyter_bokeh` installed?\n",
    "- For server: Is browser open to the right URL?\n",
    "\n",
    "**Plot doesn't update:**\n",
    "- For `sweep()`: Are you calling `append()`? Is sweep still active?\n",
    "- For `log_sweep()`: Using same sweep name? Did you flush?\n",
    "\n",
    "**ValueError: Only 1D sweeps supported:**\n",
    "- You're using 2D/ND data with `sweep()` context\n",
    "- Solution: Use `log_sweep()` instead after collecting complete data\n",
    "\n",
    "**Sweep already active error:**\n",
    "- Can't start two sweeps with same name simultaneously\n",
    "- Solution: Call `end()` on first sweep, or use different name\n",
    "\n",
    "**Address already in use:**\n",
    "- Another server on that port\n",
    "- Use different port: `enable_live_plotting(logger, backend=\"server\", port=5007)`\n",
    "\n",
    "## Advanced: Explicit Lifecycle\n",
    "\n",
    "Instead of context manager, you can manually control sweep lifecycle:\n",
    "\n",
    "```python\n",
    "s = session.start_sweep(\"my_sweep\", x_label=\"X\", y_label=\"Y\")\n",
    "for x, y in data_stream:\n",
    "    s.append([x], [y])\n",
    "s.end()  # or s.cancel() to skip file write\n",
    "```"
   ]
  }
 ],
 "metadata": {
  "kernelspec": {
   "display_name": "Python 3 (ipykernel)",
   "language": "python",
   "name": "python3"
  },
  "language_info": {
   "codemirror_mode": {
    "name": "ipython",
    "version": 3
   },
   "file_extension": ".py",
   "mimetype": "text/x-python",
   "name": "python",
   "nbconvert_exporter": "python",
   "pygments_lexer": "ipython3",
   "version": "3.12.11"
  }
 },
 "nbformat": 4,
 "nbformat_minor": 4
}
