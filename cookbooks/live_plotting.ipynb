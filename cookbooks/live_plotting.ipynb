{
 "cells": [
  {
   "cell_type": "markdown",
   "metadata": {},
   "source": [
    "# Live Plotting Cookbook\n",
    "\n",
    "Real-time visualization of sweep data as it's collected.\n",
    "\n",
    "Two backends:\n",
    "- **server**: Plots in browser window (works everywhere)\n",
    "- **inline**: Plots in notebook cells (this notebook)"
   ]
  },
  {
   "cell_type": "markdown",
   "metadata": {},
   "source": [
    "## Setup"
   ]
  },
  {
   "cell_type": "code",
   "execution_count": null,
   "metadata": {},
   "outputs": [],
   "source": [
    "import tempfile\n",
    "import time\n",
    "import numpy as np\n",
    "from stanza.logger.data_logger import DataLogger\n",
    "from stanza.plotter import enable_live_plotting"
   ]
  },
  {
   "cell_type": "markdown",
   "metadata": {},
   "source": [
    "## Example 1: Basic Inline Plotting\n",
    "\n",
    "Simplest case - one sweep, inline display."
   ]
  },
  {
   "cell_type": "code",
   "execution_count": null,
   "metadata": {},
   "outputs": [],
   "source": [
    "# Create logger and enable inline plotting\n",
    "tmpdir = tempfile.mkdtemp()\n",
    "logger = DataLogger(routine_name=\"basic\", base_dir=tmpdir)\n",
    "backend = enable_live_plotting(logger, backend=\"inline\")"
   ]
  },
  {
   "cell_type": "code",
   "execution_count": null,
   "metadata": {},
   "outputs": [],
   "source": [
    "# Create session and log data\n",
    "session = logger.create_session()\n",
    "\n",
    "# First batch - plot appears\n",
    "x = np.linspace(0, 5, 10)\n",
    "y = np.sin(x)\n",
    "session.log_sweep(name=\"signal\", x_data=x, y_data=y, x_label=\"Time (s)\", y_label=\"Amplitude\")\n",
    "session.flush()\n",
    "print(f\"Logged {len(x)} points\")"
   ]
  },
  {
   "cell_type": "code",
   "execution_count": null,
   "metadata": {},
   "outputs": [],
   "source": [
    "# Second batch - same plot updates\n",
    "x = np.linspace(5, 10, 10)\n",
    "y = np.sin(x)\n",
    "session.log_sweep(name=\"signal\", x_data=x, y_data=y, x_label=\"Time (s)\", y_label=\"Amplitude\")\n",
    "session.flush()\n",
    "print(f\"Total: {len(session._buffer) if hasattr(session, '_buffer') else 'N/A'} points\")"
   ]
  },
  {
   "cell_type": "code",
   "execution_count": null,
   "metadata": {},
   "outputs": [],
   "source": [
    "# Cleanup\n",
    "session.close()"
   ]
  },
  {
   "cell_type": "markdown",
   "metadata": {},
   "source": [
    "## Example 2: Streaming Data\n",
    "\n",
    "Simulate real-time measurement with delays."
   ]
  },
  {
   "cell_type": "code",
   "execution_count": null,
   "metadata": {},
   "outputs": [],
   "source": [
    "# Setup\n",
    "tmpdir = tempfile.mkdtemp()\n",
    "logger = DataLogger(routine_name=\"streaming\", base_dir=tmpdir)\n",
    "backend = enable_live_plotting(logger, backend=\"inline\")\n",
    "session = logger.create_session()"
   ]
  },
  {
   "cell_type": "code",
   "execution_count": null,
   "metadata": {},
   "outputs": [],
   "source": [
    "# Stream data in chunks\n",
    "for i in range(20):\n",
    "    t = i * 0.5\n",
    "    amplitude = np.cos(2 * np.pi * 0.5 * t) * np.exp(-t/5)\n",
    "    \n",
    "    session.log_sweep(\n",
    "        name=\"decay\",\n",
    "        x_data=[t],\n",
    "        y_data=[amplitude],\n",
    "        x_label=\"Time (s)\",\n",
    "        y_label=\"Signal\"\n",
    "    )\n",
    "    session.flush()\n",
    "    time.sleep(0.1)  # Simulate measurement time\n",
    "\n",
    "print(\"✓ Streaming complete\")"
   ]
  },
  {
   "cell_type": "code",
   "execution_count": null,
   "metadata": {},
   "outputs": [],
   "source": [
    "session.close()"
   ]
  },
  {
   "cell_type": "markdown",
   "metadata": {},
   "source": [
    "## Example 3: Multiple Plots\n",
    "\n",
    "Different sweep names create separate plots."
   ]
  },
  {
   "cell_type": "code",
   "execution_count": null,
   "metadata": {},
   "outputs": [],
   "source": [
    "# Setup\n",
    "tmpdir = tempfile.mkdtemp()\n",
    "logger = DataLogger(routine_name=\"multi\", base_dir=tmpdir)\n",
    "backend = enable_live_plotting(logger, backend=\"inline\")\n",
    "session = logger.create_session()"
   ]
  },
  {
   "cell_type": "code",
   "execution_count": null,
   "metadata": {},
   "outputs": [],
   "source": [
    "# Log I and Q components\n",
    "t = np.linspace(0, 10, 50)\n",
    "\n",
    "for time_point in t:\n",
    "    I = np.cos(2 * np.pi * time_point)\n",
    "    Q = np.sin(2 * np.pi * time_point)\n",
    "    \n",
    "    session.log_sweep(name=\"I\", x_data=[time_point], y_data=[I], x_label=\"Time\", y_label=\"I\")\n",
    "    session.log_sweep(name=\"Q\", x_data=[time_point], y_data=[Q], x_label=\"Time\", y_label=\"Q\")\n",
    "    session.flush()\n",
    "    time.sleep(0.05)\n",
    "\n",
    "print(\"✓ Two plots created\")"
   ]
  },
  {
   "cell_type": "code",
   "execution_count": null,
   "metadata": {},
   "outputs": [],
   "source": [
    "session.close()"
   ]
  },
  {
   "cell_type": "markdown",
   "metadata": {},
   "source": [
    "## Example 4: Server Backend (Browser)\n",
    "\n",
    "Use this for longer experiments or when not in a notebook."
   ]
  },
  {
   "cell_type": "code",
   "execution_count": null,
   "metadata": {},
   "outputs": [],
   "source": [
    "# Setup with server backend\n",
    "tmpdir = tempfile.mkdtemp()\n",
    "logger = DataLogger(routine_name=\"server_demo\", base_dir=tmpdir)\n",
    "backend = enable_live_plotting(logger, backend=\"server\", port=5006)\n",
    "\n",
    "print(\"\\n⚠️  Open http://localhost:5006 in your browser NOW\\n\")"
   ]
  },
  {
   "cell_type": "code",
   "execution_count": null,
   "metadata": {},
   "outputs": [],
   "source": [
    "# Wait a moment for browser to connect\n",
    "time.sleep(2)\n",
    "\n",
    "# Now log data - it appears in browser\n",
    "session = logger.create_session()\n",
    "\n",
    "for i in range(30):\n",
    "    x = i * 0.2\n",
    "    y = np.sin(x) + 0.1 * np.random.randn()\n",
    "    \n",
    "    session.log_sweep(\n",
    "        name=\"noisy_signal\",\n",
    "        x_data=[x],\n",
    "        y_data=[y],\n",
    "        x_label=\"Time\",\n",
    "        y_label=\"Signal + Noise\"\n",
    "    )\n",
    "    session.flush()\n",
    "    time.sleep(0.1)\n",
    "\n",
    "print(\"✓ Check browser for plot\")"
   ]
  },
  {
   "cell_type": "code",
   "execution_count": null,
   "metadata": {},
   "outputs": [],
   "source": [
    "session.close()\n",
    "backend.stop()"
   ]
  },
  {
   "cell_type": "markdown",
   "metadata": {},
   "source": [
    "## Example 5: Rabi Oscillations\n",
    "\n",
    "Realistic quantum experiment simulation."
   ]
  },
  {
   "cell_type": "code",
   "execution_count": null,
   "metadata": {},
   "outputs": [],
   "source": [
    "# Setup\n",
    "tmpdir = tempfile.mkdtemp()\n",
    "logger = DataLogger(routine_name=\"rabi\", base_dir=tmpdir)\n",
    "backend = enable_live_plotting(logger, backend=\"inline\")\n",
    "session = logger.create_session()"
   ]
  },
  {
   "cell_type": "code",
   "execution_count": null,
   "metadata": {},
   "outputs": [],
   "source": [
    "# Sweep pulse duration\n",
    "pulse_times = np.linspace(0, 20, 40)  # microseconds\n",
    "\n",
    "for t_pulse in pulse_times:\n",
    "    # Simulate Rabi oscillation with decay\n",
    "    omega_rabi = 2 * np.pi * 0.5  # MHz\n",
    "    T1 = 30  # microseconds\n",
    "    \n",
    "    population = 0.5 * (1 - np.cos(omega_rabi * t_pulse)) * np.exp(-t_pulse / T1)\n",
    "    \n",
    "    # Add measurement noise\n",
    "    population += 0.02 * np.random.randn()\n",
    "    \n",
    "    session.log_sweep(\n",
    "        name=\"rabi_oscillations\",\n",
    "        x_data=[t_pulse],\n",
    "        y_data=[population],\n",
    "        x_label=\"Pulse Duration (μs)\",\n",
    "        y_label=\"Excited State Population\"\n",
    "    )\n",
    "    session.flush()\n",
    "    time.sleep(0.05)\n",
    "\n",
    "print(\"✓ Rabi sweep complete\")"
   ]
  },
  {
   "cell_type": "code",
   "execution_count": null,
   "metadata": {},
   "outputs": [],
   "source": [
    "session.close()"
   ]
  },
  {
   "cell_type": "markdown",
   "metadata": {},
   "source": [
    "## Key Points\n",
    "\n",
    "1. **Call `flush()`** - Only flushed data appears in plots\n",
    "2. **Same name = same plot** - Different names create separate plots\n",
    "3. **Inline backend** - Requires `jupyter_bokeh` package\n",
    "4. **Server backend** - Open browser to `http://localhost:PORT` before logging\n",
    "5. **Updates are automatic** - Just flush and watch\n",
    "\n",
    "## Troubleshooting\n",
    "\n",
    "**Plot doesn't appear:**\n",
    "- Did you call `session.flush()`?\n",
    "- For inline: Is `jupyter_bokeh` installed?\n",
    "- For server: Is browser open to the right URL?\n",
    "\n",
    "**Plot doesn't update:**\n",
    "- Are you using the same sweep name?\n",
    "- Did you call `flush()` after logging new data?\n",
    "\n",
    "**Address already in use:**\n",
    "- Another server on that port\n",
    "- Use different port: `enable_live_plotting(logger, backend=\"server\", port=5007)`"
   ]
  }
 ],
 "metadata": {
  "kernelspec": {
   "display_name": "Python 3 (ipykernel)",
   "language": "python",
   "name": "python3"
  },
  "language_info": {
   "codemirror_mode": {
    "name": "ipython",
    "version": 3
   },
   "file_extension": ".py",
   "mimetype": "text/x-python",
   "name": "python",
   "nbconvert_exporter": "python",
   "pygments_lexer": "ipython3",
   "version": "3.12.11"
  }
 },
 "nbformat": 4,
 "nbformat_minor": 4
}
